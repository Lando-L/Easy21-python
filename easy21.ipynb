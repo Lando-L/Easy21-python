{
 "cells": [
  {
   "cell_type": "markdown",
   "metadata": {},
   "source": [
    "## Easy 21\n",
    "### Imports"
   ]
  },
  {
   "cell_type": "code",
   "execution_count": 309,
   "metadata": {},
   "outputs": [],
   "source": [
    "import numpy as np\n",
    "import matplotlib.pyplot as plt"
   ]
  },
  {
   "cell_type": "markdown",
   "metadata": {},
   "source": [
    "### Environment"
   ]
  },
  {
   "cell_type": "code",
   "execution_count": 310,
   "metadata": {},
   "outputs": [],
   "source": [
    "def sample_card():\n",
    "    value = random.randrange(1, 11)\n",
    "    factor = 1 if random.random() < 0.7 else -1\n",
    "    return value * factor\n",
    "\n",
    "def is_busted(cards):\n",
    "    return cards < 1 or cards > 21\n",
    "\n",
    "def final_reward(state):\n",
    "    if state[0] == state[1]:\n",
    "        return 0\n",
    "    elif state[0] < state[1]:\n",
    "        return 1\n",
    "    else:\n",
    "        return -1\n",
    "\n",
    "def reward(state):\n",
    "    if is_busted(state[0]):\n",
    "        return 1\n",
    "    elif is_busted(state[1]):\n",
    "        return -1\n",
    "    else:\n",
    "        if state[2]:\n",
    "            return final_reward(state)\n",
    "        else:\n",
    "            return 0\n",
    "        \n",
    "def next_state(state, action):\n",
    "    if state[2]:\n",
    "        return state\n",
    "    else:\n",
    "        if action == 0:\n",
    "            player =  state[1] + sample_card()\n",
    "            return (state[0], player, is_busted(player))\n",
    "        elif action == 1:\n",
    "            while(not state[2] and state[0] < 17):\n",
    "                dealer = state[0] + sample_card()\n",
    "                state = (dealer, state[1], is_busted(dealer))\n",
    "            return (state[0], state[1], True)\n",
    "        else:\n",
    "            return state\n",
    "\n",
    "def initial_state():\n",
    "    return (random.randrange(1, 11), random.randrange(1, 11), False)\n",
    "        \n",
    "def step(state, action):\n",
    "    state = next_state(state, action)\n",
    "    return (state, reward(state))"
   ]
  },
  {
   "cell_type": "markdown",
   "metadata": {},
   "source": [
    "### Monte Carlo Control"
   ]
  },
  {
   "cell_type": "code",
   "execution_count": 381,
   "metadata": {},
   "outputs": [
    {
     "data": {
      "image/png": "[encoded data removed]",
      "text/plain": [
       "<Figure size 432x288 with 1 Axes>"
      ]
     },
     "metadata": {
      "needs_background": "light"
     },
     "output_type": "display_data"
    }
   ],
   "source": [
    "n_0 = 100\n",
    "n_t = np.zeros((10,21))\n",
    "n_values = np.zeros((10,21,2))\n",
    "q_values = np.zeros((10,21,2))\n",
    "\n",
    "def sample_episode():\n",
    "    state = initial_state()\n",
    "    episode = []\n",
    "    while(not state[2]):\n",
    "        epsilon = n_0 / (n_0 + n_t[(state[0]-1, state[1]-1)])\n",
    "        action = e_greedy(epsilon, state)\n",
    "        next_state, reward = step(state, action)\n",
    "        episode.append((state, action, reward))\n",
    "        state = next_state\n",
    "    return episode\n",
    "\n",
    "def e_greedy(epsilon, state):\n",
    "    max_action = np.argmax(q_values[(state[0]-1, state[1]-1)])\n",
    "    random_action = random.randrange(2)\n",
    "    return max_action if random.random() > epsilon else random_action\n",
    "\n",
    "def update_values(episode):\n",
    "    g = sum(map(lambda e: e[2], episode))\n",
    "    for (s,a,r) in episode:\n",
    "        n_t[(s[0]-1, s[1]-1)] += 1\n",
    "        n_values[(s[0]-1, s[1]-1, a)] += 1\n",
    "        q_values[(s[0]-1, s[1]-1, a)] += (1 / n_values[(s[0]-1, s[1]-1, a)]) * (g - q_values[(s[0]-1, s[1]-1, a)])\n",
    "        g -= r\n",
    "        \n",
    "def monte_carlo_control(n_iterations):\n",
    "    for i in range(n_iterations):\n",
    "        episode = sample_episode()\n",
    "        update_values(episode)\n",
    "\n",
    "monte_carlo_control(10000)\n",
    "plt.plot(np.arange(21), np.amax(np.average(q_values, axis=0), axis=1))\n",
    "plt.xlabel('Player Sum')\n",
    "plt.ylabel('Q Value')\n",
    "plt.show()"
   ]
  },
  {
   "cell_type": "code",
   "execution_count": null,
   "metadata": {},
   "outputs": [],
   "source": []
  }
 ],
 "metadata": {
  "kernelspec": {
   "display_name": "Python 3",
   "language": "python",
   "name": "python3"
  },
  "language_info": {
   "codemirror_mode": {
    "name": "ipython",
    "version": 3
   },
   "file_extension": ".py",
   "mimetype": "text/x-python",
   "name": "python",
   "nbconvert_exporter": "python",
   "pygments_lexer": "ipython3",
   "version": "3.6.7"
  }
 },
 "nbformat": 4,
 "nbformat_minor": 2
}
