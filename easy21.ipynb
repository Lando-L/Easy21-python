{
 "cells": [
  {
   "cell_type": "markdown",
   "metadata": {},
   "source": [
    "## Easy 21\n",
    "### Imports"
   ]
  },
  {
   "cell_type": "code",
   "execution_count": 8,
   "metadata": {},
   "outputs": [],
   "source": [
    "import random\n",
    "import numpy as np\n",
    "import matplotlib.pyplot as plt"
   ]
  },
  {
   "cell_type": "markdown",
   "metadata": {},
   "source": [
    "### Environment"
   ]
  },
  {
   "cell_type": "code",
   "execution_count": 11,
   "metadata": {},
   "outputs": [],
   "source": [
    "ACTIONS = {'HIT': 0, 'STICK': 1}\n",
    "\n",
    "class GameState:\n",
    "    def __init__(self, dealer, player, done):\n",
    "        self.dealer = dealer\n",
    "        self.player = player\n",
    "        self.done = done\n",
    "\n",
    "def sample_card():\n",
    "    value = random.randrange(1, 11)\n",
    "    factor = 1 if random.random() < 0.7 else -1\n",
    "    return value * factor\n",
    "\n",
    "def is_busted(cards):\n",
    "    return cards < 1 or cards > 21\n",
    "\n",
    "def final_reward(state):\n",
    "    if state.dealer == state.player:\n",
    "        return 0\n",
    "    elif state.dealer < state.player:\n",
    "        return 1\n",
    "    else:\n",
    "        return -1\n",
    "\n",
    "def reward(state):\n",
    "    if is_busted(state.dealer):\n",
    "        return 1\n",
    "    elif is_busted(state.player):\n",
    "        return -1\n",
    "    else:\n",
    "        if state.done:\n",
    "            return final_reward(state)\n",
    "        else:\n",
    "            return 0\n",
    "        \n",
    "def next_state(state, action):\n",
    "    if state.done:\n",
    "        return state\n",
    "    else:\n",
    "        if action == ACTIONS['HIT']:\n",
    "            player =  state.player + sample_card()\n",
    "            return GameState(state.dealer, player, is_busted(player))\n",
    "        elif action == ACTIONS['STICK']:\n",
    "            temp = state\n",
    "            while(not temp.done and temp.dealer < 17):\n",
    "                dealer = temp.dealer + sample_card()\n",
    "                temp = GameState(dealer, state.player, is_busted(dealer))\n",
    "            return GameState(temp.dealer, state.player, True)\n",
    "        else:\n",
    "            return state\n",
    "\n",
    "def initial_state():\n",
    "    return GameState(random.randrange(1, 11), random.randrange(1, 11), False)\n",
    "        \n",
    "def step(state, action):\n",
    "    state = next_state(state, action)\n",
    "    return (state, reward(state))"
   ]
  },
  {
   "cell_type": "markdown",
   "metadata": {},
   "source": [
    "### Monte Carlo Control"
   ]
  },
  {
   "cell_type": "code",
   "execution_count": 46,
   "metadata": {},
   "outputs": [
    {
     "data": {
      "image/png": "[encoded data removed]",
      "text/plain": [
       "<Figure size 432x288 with 1 Axes>"
      ]
     },
     "metadata": {
      "needs_background": "light"
     },
     "output_type": "display_data"
    }
   ],
   "source": [
    "n_0 = 100\n",
    "n_t = np.zeros((10,21))\n",
    "n_values = np.zeros((10,21,2))\n",
    "q_values = np.zeros((10,21,2))\n",
    "\n",
    "def sample_episode():\n",
    "    state = initial_state()\n",
    "    episode = []\n",
    "    while not state.done:\n",
    "        epsilon = n_0 / (n_0 + n_t[(state.dealer-1, state.player-1)])\n",
    "        action = e_greedy(epsilon, state)\n",
    "        next_state, reward = step(state, action)\n",
    "        episode.append((state, action, reward))\n",
    "        state = next_state\n",
    "    return episode\n",
    "\n",
    "def e_greedy(epsilon, state):\n",
    "    max_action = np.argmax(q_values[(state.dealer-1, state.player-1)])\n",
    "    random_action = random.randrange(2)\n",
    "    return max_action if random.random() > epsilon else random_action\n",
    "\n",
    "def update_values(episode):\n",
    "    g = sum([step[2] for step in episode])\n",
    "    for (s,a,r) in episode:\n",
    "        n_t[(s.dealer-1, s.player-1)] += 1\n",
    "        n_values[(s.dealer-1, s.player-1, a)] += 1\n",
    "        q_values[(s.dealer-1, s.player-1, a)] += (1 / n_values[(s.dealer-1, s.player-1, a)]) * (g - q_values[(s.dealer-1, s.player-1, a)])\n",
    "        g -= r\n",
    "        \n",
    "def monte_carlo_control(n_iterations):\n",
    "    for i in range(n_iterations):\n",
    "        episode = sample_episode()\n",
    "        update_values(episode)\n",
    "\n",
    "monte_carlo_control(100000)\n",
    "plt.plot(np.arange(12,22), np.amax(np.average(q_values[:,11:,:], axis=0), axis=1))\n",
    "plt.xlabel('Player Sum')\n",
    "plt.ylabel('Q Value')\n",
    "plt.show()"
   ]
  },
  {
   "cell_type": "markdown",
   "metadata": {},
   "source": [
    "## Test"
   ]
  },
  {
   "cell_type": "code",
   "execution_count": 47,
   "metadata": {},
   "outputs": [
    {
     "name": "stdout",
     "output_type": "stream",
     "text": [
      "Played 5000 rounds\n",
      "Total reward: -1651\n",
      "Wins 33.38%, draws 0.22%, loss 66.4%\n"
     ]
    }
   ],
   "source": [
    "def greedy(state):\n",
    "    return np.argmax(q_values[(state.dealer-1, state.player-1)])\n",
    "\n",
    "def play(n_rounds):\n",
    "    rewards = []\n",
    "    for _ in range(n_rounds):\n",
    "        state = initial_state()\n",
    "        while not state.done:\n",
    "            action = greedy(state)\n",
    "            state = next_state(state, action)\n",
    "        rewards.append(final_reward(state))\n",
    "    \n",
    "    wins = 0\n",
    "    draws = 0\n",
    "    loss = 0\n",
    "    for reward in rewards:\n",
    "        if reward == 1:\n",
    "            wins += 1\n",
    "        elif reward == -1:\n",
    "            loss += 1\n",
    "        else:\n",
    "            draws += 1\n",
    "            \n",
    "    total_reward = sum(rewards)\n",
    "    win_rate = round(wins / n_rounds * 100, 2)\n",
    "    draw_rate = round(draws / n_rounds * 100, 2)\n",
    "    loss_rate = round(loss / n_rounds * 100, 2)\n",
    "    \n",
    "    print(f\"Played {n_rounds} rounds\")\n",
    "    print(f\"Total reward: {total_reward}\")\n",
    "    print(f\"Wins {win_rate}%, draws {draw_rate}%, loss {loss_rate}%\")\n",
    "    \n",
    "play(5000)"
   ]
  },
  {
   "cell_type": "code",
   "execution_count": null,
   "metadata": {},
   "outputs": [],
   "source": []
  }
 ],
 "metadata": {
  "kernelspec": {
   "display_name": "Python 3",
   "language": "python",
   "name": "python3"
  },
  "language_info": {
   "codemirror_mode": {
    "name": "ipython",
    "version": 3
   },
   "file_extension": ".py",
   "mimetype": "text/x-python",
   "name": "python",
   "nbconvert_exporter": "python",
   "pygments_lexer": "ipython3",
   "version": "3.6.7"
  }
 },
 "nbformat": 4,
 "nbformat_minor": 2
}
